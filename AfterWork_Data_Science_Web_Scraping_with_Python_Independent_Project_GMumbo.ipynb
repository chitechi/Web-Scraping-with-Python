{
  "nbformat": 4,
  "nbformat_minor": 0,
  "metadata": {
    "colab": {
      "provenance": [],
      "toc_visible": true
    },
    "kernelspec": {
      "name": "python3",
      "display_name": "Python 3"
    }
  },
  "cells": [
    {
      "cell_type": "markdown",
      "metadata": {
        "id": "7i5A-UY4Yruf"
      },
      "source": [
        "<font color='#2F4F4F'>To use this notebook on Colaboratory, you will need to make a copy of it. Go to File > Save a Copy in Drive. You can then use the new copy that will appear in the new tab.</font>\n"
      ]
    },
    {
      "cell_type": "markdown",
      "metadata": {
        "id": "0rOdcI2Nzhky"
      },
      "source": [
        "# <font color='#2F4F4F'>AfterWork Data Science: Web Scraping with Python</font>"
      ]
    },
    {
      "cell_type": "markdown",
      "source": [
        "**Web Scraping with Python Project**\n",
        "\n",
        "**Project Deliverables**\n",
        "\n",
        "You will be required to complete the following deliverable.\n",
        "\n",
        "● A python notebook with your solution.\n",
        "\n",
        "**Instructions**\n",
        "\n",
        "**Background Information**\n",
        "\n",
        "Together with a team of startup entrepreneurs, you decide to work on an idea that could\n",
        "change the way people search for jobs. You decide that job scraping could be the next\n",
        "big thing as there are actively many people looking for jobs in the country, in this case,\n",
        "Kenya.\n",
        "\n",
        "**Problem Statement**\n",
        "\n",
        "The problem is that there are many job listings which can not get visits for the target job\n",
        "seekers. While working in a team, your task as a data scientist for this project is to\n",
        "scrape for job titles and links and then put them in a single table that can be used by\n",
        "your team members to further build a job aggregator.\n",
        "You will be required to scrape for data from the following three technology webpages:\n",
        "\n",
        "● PigiaMe: https://www.pigiame.co.ke/it-software-jobs\n",
        "\n",
        "● MyJobMag: https://www.myjobmag.co.ke/jobs-by-field/information-technology\n",
        "\n",
        "● KenyaJob:\n",
        "https://www.kenyajob.com/job-vacancies-search-kenya?f%5B0%5D=im_field_offr\n",
        "e_secteur%3A133\n",
        "\n",
        "Your deliverable will be a python script that performs the mentioned task. You can use\n",
        "the following guiding notebook to get started [Link]."
      ],
      "metadata": {
        "id": "oTnZauinC9pH"
      }
    },
    {
      "cell_type": "markdown",
      "metadata": {
        "id": "Tcso2rJCNAGq"
      },
      "source": [
        "## <font color='#2F4F4F'>Prerequisites</font>"
      ]
    },
    {
      "cell_type": "code",
      "metadata": {
        "id": "QSHljMZTNCRI"
      },
      "source": [
        "# We first import the required libraries\n",
        "# ---\n",
        "#\n",
        "import pandas as pd             # library for data manupation\n",
        "import requests                 # library for fetching a web page \n",
        "from bs4 import BeautifulSoup   # library for extrating contents from a webpage "
      ],
      "execution_count": 1,
      "outputs": []
    },
    {
      "cell_type": "markdown",
      "metadata": {
        "id": "CRmt1rRHgZRG"
      },
      "source": [
        "## <font color='#2F4F4F'>Step 1: Obtaining our Data</font>"
      ]
    },
    {
      "cell_type": "code",
      "metadata": {
        "id": "cM5TKD-P1h7Z",
        "colab": {
          "base_uri": "https://localhost:8080/"
        },
        "outputId": "9f71ebd7-6cd6-429c-c772-f3373c418823"
      },
      "source": [
        "# PigiaMe: https://www.pigiame.co.ke/it-software-jobs\n",
        "# ---\n",
        "#\n",
        "pigia_me = requests.get('https://www.pigiame.co.ke/it-software-jobs')\n",
        "pigia_me"
      ],
      "execution_count": 2,
      "outputs": [
        {
          "output_type": "execute_result",
          "data": {
            "text/plain": [
              "<Response [200]>"
            ]
          },
          "metadata": {},
          "execution_count": 2
        }
      ]
    },
    {
      "cell_type": "code",
      "metadata": {
        "id": "OfUvfxrD1nQC",
        "colab": {
          "base_uri": "https://localhost:8080/"
        },
        "outputId": "bb372cd9-d4ed-4b08-d83d-1f5fe15dac8c"
      },
      "source": [
        "# MyJobMag: https://www.myjobmag.co.ke/jobs-by-field/information-technology\n",
        "# ---\n",
        "#\n",
        "myjobmag = requests.get('https://www.myjobmag.co.ke/jobs-by-field/information-technology')\n",
        "myjobmag\n"
      ],
      "execution_count": 4,
      "outputs": [
        {
          "output_type": "execute_result",
          "data": {
            "text/plain": [
              "<Response [200]>"
            ]
          },
          "metadata": {},
          "execution_count": 4
        }
      ]
    },
    {
      "cell_type": "code",
      "metadata": {
        "id": "psWrYhRUQDJC",
        "colab": {
          "base_uri": "https://localhost:8080/"
        },
        "outputId": "b67ebcf1-7a63-4fda-a439-ab7eded5b11d"
      },
      "source": [
        "# KenyanJob: https://www.kenyajob.com/job-vacancies-search-kenya?f%5B0%5D=im_field_offre_secteur%3A133\n",
        "# ---\n",
        "#\n",
        "kenyanjob = requests.get('https://www.kenyajob.com/job-vacancies-search-kenya?f%5B0%5D=im_field_offre_secteur%3A133')\n",
        "kenyanjob"
      ],
      "execution_count": 5,
      "outputs": [
        {
          "output_type": "execute_result",
          "data": {
            "text/plain": [
              "<Response [200]>"
            ]
          },
          "metadata": {},
          "execution_count": 5
        }
      ]
    },
    {
      "cell_type": "markdown",
      "metadata": {
        "id": "h7iRb8U8hHNw"
      },
      "source": [
        "## <font color='#2F4F4F'>Step 2: Parsing</font>"
      ]
    },
    {
      "cell_type": "code",
      "metadata": {
        "id": "AXWSK1kD2oeN"
      },
      "source": [
        "# Parsing our document: pigia_me\n",
        "# ---\n",
        "# \n",
        "SoupPigiaMe = BeautifulSoup(pigia_me.text, 'html.parser')"
      ],
      "execution_count": 6,
      "outputs": []
    },
    {
      "cell_type": "code",
      "metadata": {
        "id": "lrH9mgR82pzg"
      },
      "source": [
        "# Parsing our document: my_job_mag\n",
        "# ---\n",
        "#  \n",
        "SoupMyJobMag = BeautifulSoup(myjobmag.text, 'html.parser')\n"
      ],
      "execution_count": 7,
      "outputs": []
    },
    {
      "cell_type": "code",
      "metadata": {
        "id": "O0x-Wz03QP5O"
      },
      "source": [
        "# Parsing our document: kenyan_job\n",
        "# ---\n",
        "# \n",
        "SoupKenyanJob = BeautifulSoup(kenyanjob.text, \"html.parser\")"
      ],
      "execution_count": 8,
      "outputs": []
    },
    {
      "cell_type": "markdown",
      "metadata": {
        "id": "_OxuOAIXhPl5"
      },
      "source": [
        "## <font color='#2F4F4F'>Step 3: Extracting Required Elements</font>"
      ]
    },
    {
      "cell_type": "code",
      "metadata": {
        "id": "e2p147_LICKn",
        "colab": {
          "base_uri": "https://localhost:8080/"
        },
        "outputId": "bf6531b9-30d9-4a63-931d-456b4edb92dd"
      },
      "source": [
        "# 1. Extracting job titles and links: pigia me\n",
        "# ---\n",
        "# find the tag\n",
        "pigia_me_jobs = SoupPigiaMe.find_all('div', class_ = \"listings-cards__list-item \")\n",
        "\n",
        "# create two lists\n",
        "pigia_me_job_title = []\n",
        "pigia_me_job_link = []\n",
        "\n",
        "#iterate through\n",
        "for job in pigia_me_jobs:\n",
        "  title = job.find('div', class_ = 'listing-card__header__title').text.strip()\n",
        "  link = job.a['href']\n",
        "  pigia_me_job_title.append(title)\n",
        "  pigia_me_job_link.append(link)\n",
        "\n",
        "print(pigia_me_job_title)\n",
        "print(pigia_me_job_link)\n"
      ],
      "execution_count": 11,
      "outputs": [
        {
          "output_type": "stream",
          "name": "stdout",
          "text": [
            "['Software Developer', 'Software Development Java, nodeJs (Onsite Nyeri) entry level', 'Frontend Developer Reframe', 'Chatbot Developer', 'Assistant IT Administrator', 'Frontend Developer', 'CRM Enginee', 'Analyst Programmer', 'Senior Game Developer', 'Lead Full Stack Engineer']\n",
            "['https://www.pigiame.co.ke/listings/software-developer-5478002', 'https://www.pigiame.co.ke/listings/software-development-java-nodejs-onsite-nyeri-entry-level-5474653', 'https://www.pigiame.co.ke/listings/frontend-developer-reframe-5473981', 'https://www.pigiame.co.ke/listings/chatbot-developer-5472628', 'https://www.pigiame.co.ke/listings/assistant-it-administrator-5471542', 'https://www.pigiame.co.ke/listings/frontend-developer-5471441', 'https://www.pigiame.co.ke/listings/crm-enginee-5471294', 'https://www.pigiame.co.ke/listings/analyst-programmer-5469047', 'https://www.pigiame.co.ke/listings/senior-game-developer-5468130', 'https://www.pigiame.co.ke/listings/lead-full-stack-engineer-5467710']\n"
          ]
        }
      ]
    },
    {
      "cell_type": "code",
      "metadata": {
        "id": "NNLbrng_3QfA",
        "colab": {
          "base_uri": "https://localhost:8080/"
        },
        "outputId": "a51e1b89-0f77-4114-e390-7051c966b6b2"
      },
      "source": [
        "# 2. Extracting job titles: my_job_mag\n",
        "# ---\n",
        "# \n",
        "# find the tag of jobs listing\n",
        "my_job_mag_jobs = SoupMyJobMag.find_all('li', class_ = \"job-list-li\")\n",
        "\n",
        "# create two lists to store the results\n",
        "my_job_mag_job_title = []\n",
        "my_job_mag_job_link = []\n",
        "\n",
        "# iterate through \n",
        "for job in my_job_mag_jobs:\n",
        "    if job.h2:\n",
        "      title = job.h2.text.strip()\n",
        "      link = link = 'https://www.myjobmag.co.ke' + job.h2.a['href']\n",
        "      \n",
        "      my_job_mag_job_title.append(title)\n",
        "      my_job_mag_job_link.append(link)\n",
        "\n",
        "print(my_job_mag_job_title)\n",
        "print(my_job_mag_job_link)\n"
      ],
      "execution_count": 12,
      "outputs": [
        {
          "output_type": "stream",
          "name": "stdout",
          "text": [
            "['Software Engineering Manager at Sanergy', 'Quality Assurance Specialist at Britam', 'Software Developer at Aga Khan Hospital Kisumu', 'Software Engineer - Identity Management for Canonical Products at Canonical', 'Senior Application Security Engineer at Cellulant Corporation', 'Shopify Developer at Crystal Recruit', 'Senior Software Engineer at One Acre Fund', 'IDEMA MBSS Support Engineer at Innovative Software Technologies Ltd', 'Officer ICT for Development (ICT4D) at Concern Worldwide', 'Group Model Risk Validation Senior Manager (Financial Crime / Fraud Model / AML Model Validation) at CA Global', 'Head Digital Engineering at NCBA Group', 'Software Developer at Aga Khan Development Network (AKDN)', 'Internal Control Manager at ENGIE', 'Digital & E-Channels Support Officer at Co-operative Bank of Kenya', 'Geographical Information Systems Specialist (GIS) at Medecins Sans Frontieres (MSF)', 'Senior CRM Officer at Amref Kenya', 'Junior OPENMRS Developer at University of California San Francisco (UCSF)', 'Junior Frontend Developer at University of California San Francisco (UCSF)']\n",
            "['https://www.myjobmag.co.ke/job/software-engineering-manager-sanergy', 'https://www.myjobmag.co.ke/job/quality-assurance-specialist-britam', 'https://www.myjobmag.co.ke/job/software-developer-aga-khan-hospital-kisumu', 'https://www.myjobmag.co.ke/job/software-engineer-identity-management-for-canonical-products-canonical-1', 'https://www.myjobmag.co.ke/job/senior-application-security-engineer-cellulant-corporation-1', 'https://www.myjobmag.co.ke/job/shopify-developer-crystal-recruit', 'https://www.myjobmag.co.ke/job/senior-software-engineer-one-acre-fund', 'https://www.myjobmag.co.ke/job/idema-mbss-support-engineer-innovative-software-technologies-ltd', 'https://www.myjobmag.co.ke/job/officer-ict-for-development-ict4d-concern-worldwide', 'https://www.myjobmag.co.ke/job/group-model-risk-validation-senior-manager-financial-crime-fraud-model-aml-model-validation-ca-global', 'https://www.myjobmag.co.ke/job/head-digital-engineering-ncba-group', 'https://www.myjobmag.co.ke/job/software-developer-aga-khan-development-network-akdn', 'https://www.myjobmag.co.ke/job/internal-control-manager-engie-1', 'https://www.myjobmag.co.ke/job/digital-e-channels-support-officer-co-operative-bank-of-kenya-2', 'https://www.myjobmag.co.ke/job/geographical-information-systems-specialist-gis-medecins-sans-frontieres-msf', 'https://www.myjobmag.co.ke/job/senior-crm-officer-amref-kenya', 'https://www.myjobmag.co.ke/job/junior-openmrs-developer-university-of-california-san-francisco-ucsf', 'https://www.myjobmag.co.ke/job/university-of-california-san-francisco-ucsf-university-of-california-san-francisco-ucsf']\n"
          ]
        }
      ]
    },
    {
      "cell_type": "code",
      "metadata": {
        "id": "I0fQKn63QV0R",
        "colab": {
          "base_uri": "https://localhost:8080/"
        },
        "outputId": "c47f1d58-025b-4c6f-c1f7-0a604c61cc69"
      },
      "source": [
        "# 3. Extracting job titles: kenya_job\n",
        "# ---\n",
        "#\n",
        "# find the tag of the jobs listing \n",
        "kenya_jobs = SoupKenyanJob.find_all('div', class_ = \"job-description-wrapper\")\n",
        "\n",
        "# create two lists to store the results \n",
        "kenyan_job_title = []\n",
        "kenyan_job_link = []\n",
        "\n",
        "# iterate through \n",
        "for job in kenya_jobs:\n",
        "  link = job['data-href']\n",
        "  title = job.text.strip().split('\\n')[0]\n",
        "\n",
        "  kenyan_job_link.append(link)\n",
        "  kenyan_job_title.append(title)\n",
        "\n",
        "print(kenyan_job_link)\n",
        "print(kenyan_job_title)\n"
      ],
      "execution_count": 13,
      "outputs": [
        {
          "output_type": "stream",
          "name": "stdout",
          "text": [
            "['https://www.kenyajob.com/job-vacancies-kenya/java-ee-java-8-developer-sql-skills-130458', 'https://www.kenyajob.com/job-vacancies-kenya/senior-freelance-web-designer-130459', 'https://www.kenyajob.com/job-vacancies-kenya/business-development-assistant-132274', 'https://www.kenyajob.com/job-vacancies-kenya/cctv-fire-alarms-systems-technician-127106', 'https://www.kenyajob.com/job-vacancies-kenya/cctv-fire-alarms-systems-technician-127107', 'https://www.kenyajob.com/job-vacancies-kenya/information-technology-sales-specialist-129253', 'https://www.kenyajob.com/job-vacancies-kenya/aws-cloud-architect-mf-129511', 'https://www.kenyajob.com/job-vacancies-kenya/aws-solutions-architect-mf-129512', 'https://www.kenyajob.com/job-vacancies-kenya/azure-solutions-architect-mf-129513', 'https://www.kenyajob.com/job-vacancies-kenya/cloud-architect-mf-129514', 'https://www.kenyajob.com/job-vacancies-kenya/cloud-computing-virtualization-engineer-mf-129515', 'https://www.kenyajob.com/job-vacancies-kenya/cloud-engineer-mf-129516', 'https://www.kenyajob.com/job-vacancies-kenya/cloud-microservices-architect-mf-129517', 'https://www.kenyajob.com/job-vacancies-kenya/cloud-system-administrator-mf-129518', 'https://www.kenyajob.com/job-vacancies-kenya/cloud-system-integrator-mf-129519', 'https://www.kenyajob.com/job-vacancies-kenya/cyber-security-engineer-mf-129520', 'https://www.kenyajob.com/job-vacancies-kenya/datastage-architect-mf-129521', 'https://www.kenyajob.com/job-vacancies-kenya/genesys-architect-mf-129522', 'https://www.kenyajob.com/job-vacancies-kenya/network-architect-mf-129523', 'https://www.kenyajob.com/job-vacancies-kenya/angular-developer-mf-129524', 'https://www.kenyajob.com/job-vacancies-kenya/devops-engineer-mf-129525', 'https://www.kenyajob.com/job-vacancies-kenya/dotnet-developer-mf-129526', 'https://www.kenyajob.com/job-vacancies-kenya/ios-developer-mf-129527', 'https://www.kenyajob.com/job-vacancies-kenya/java-developer-mf-129528', 'https://www.kenyajob.com/job-vacancies-kenya/java-jee-developer-mf-129529']\n",
            "['JAVA EE / JAVA 8 Developer with SQL Skills', 'Senior Freelance Web Designer', 'Business Development Assistant', 'CCTV and Fire Alarms Systems Technician', 'CCTV and Fire Alarms Systems Technician', 'Information Technology Sales Specialist', 'AWS Cloud Architect (M/F)', 'AWS Solutions Architect (M/F)', 'AZURE Solutions Architect (M/F)', 'Cloud Architect (M/F)', 'Cloud Computing and Virtualization Engineer (M/F)', 'Cloud Engineer (M/F)', 'Cloud Microservices Architect (M/F)', 'Cloud System Administrator (M/F)', 'Cloud System Integrator (M/F)', 'Cyber Security Engineer (M/F)', 'DATASTAGE Architect (M/F)', 'GENESYS Architect (M/F)', 'Network Architect (M/F)', 'ANGULAR Developer (M/F)', 'DevOps Engineer (M/F)', 'DOTNET Developer (M/F)', 'IOS Developer (M/F)', 'JAVA Developer (M/F)', 'JAVA JEE Developer (M/F)']\n"
          ]
        }
      ]
    },
    {
      "cell_type": "markdown",
      "metadata": {
        "id": "7ePXABAihaKn"
      },
      "source": [
        "## <font color='#2F4F4F'>Step 4: Saving our Data</font>"
      ]
    },
    {
      "cell_type": "code",
      "metadata": {
        "id": "fsG9pQXk5f8y",
        "colab": {
          "base_uri": "https://localhost:8080/",
          "height": 676
        },
        "outputId": "6c84c424-fd3c-4a14-de3d-ca754a5bae67"
      },
      "source": [
        "# Saving the scraped contents in a dataframe and preview our data\n",
        "# ---\n",
        "#\n",
        "# combine the various lists.\n",
        "job_titles = pigia_me_job_title + my_job_mag_job_title + kenyan_job_title\n",
        "url_links = pigia_me_job_link + my_job_mag_job_link + kenyan_job_link\n",
        "\n",
        "# create pandas DataFrame and get 20 random jobs\n",
        "df = pd.DataFrame({\"Job Title\": job_titles, \"link_url\": url_links})\n",
        "df.sample(20)\n"
      ],
      "execution_count": 14,
      "outputs": [
        {
          "output_type": "execute_result",
          "data": {
            "text/plain": [
              "                                            Job Title  \\\n",
              "20             Head Digital Engineering at NCBA Group   \n",
              "41                   Cloud System Administrator (M/F)   \n",
              "30                     Business Development Assistant   \n",
              "40                Cloud Microservices Architect (M/F)   \n",
              "37                              Cloud Architect (M/F)   \n",
              "14  Senior Application Security Engineer at Cellul...   \n",
              "27  Junior Frontend Developer at University of Cal...   \n",
              "19  Group Model Risk Validation Senior Manager (Fi...   \n",
              "13  Software Engineer - Identity Management for Ca...   \n",
              "29                      Senior Freelance Web Designer   \n",
              "4                          Assistant IT Administrator   \n",
              "35                      AWS Solutions Architect (M/F)   \n",
              "11             Quality Assurance Specialist at Britam   \n",
              "46                            Network Architect (M/F)   \n",
              "47                            ANGULAR Developer (M/F)   \n",
              "0                                  Software Developer   \n",
              "32            CCTV and Fire Alarms Systems Technician   \n",
              "24  Geographical Information Systems Specialist (G...   \n",
              "22                  Internal Control Manager at ENGIE   \n",
              "38  Cloud Computing and Virtualization Engineer (M/F)   \n",
              "\n",
              "                                             link_url  \n",
              "20  https://www.myjobmag.co.ke/job/head-digital-en...  \n",
              "41  https://www.kenyajob.com/job-vacancies-kenya/c...  \n",
              "30  https://www.kenyajob.com/job-vacancies-kenya/b...  \n",
              "40  https://www.kenyajob.com/job-vacancies-kenya/c...  \n",
              "37  https://www.kenyajob.com/job-vacancies-kenya/c...  \n",
              "14  https://www.myjobmag.co.ke/job/senior-applicat...  \n",
              "27  https://www.myjobmag.co.ke/job/university-of-c...  \n",
              "19  https://www.myjobmag.co.ke/job/group-model-ris...  \n",
              "13  https://www.myjobmag.co.ke/job/software-engine...  \n",
              "29  https://www.kenyajob.com/job-vacancies-kenya/s...  \n",
              "4   https://www.pigiame.co.ke/listings/assistant-i...  \n",
              "35  https://www.kenyajob.com/job-vacancies-kenya/a...  \n",
              "11  https://www.myjobmag.co.ke/job/quality-assuran...  \n",
              "46  https://www.kenyajob.com/job-vacancies-kenya/n...  \n",
              "47  https://www.kenyajob.com/job-vacancies-kenya/a...  \n",
              "0   https://www.pigiame.co.ke/listings/software-de...  \n",
              "32  https://www.kenyajob.com/job-vacancies-kenya/c...  \n",
              "24  https://www.myjobmag.co.ke/job/geographical-in...  \n",
              "22  https://www.myjobmag.co.ke/job/internal-contro...  \n",
              "38  https://www.kenyajob.com/job-vacancies-kenya/c...  "
            ],
            "text/html": [
              "\n",
              "  <div id=\"df-2a421ade-8d90-45e1-8ba5-e48e62c80a72\">\n",
              "    <div class=\"colab-df-container\">\n",
              "      <div>\n",
              "<style scoped>\n",
              "    .dataframe tbody tr th:only-of-type {\n",
              "        vertical-align: middle;\n",
              "    }\n",
              "\n",
              "    .dataframe tbody tr th {\n",
              "        vertical-align: top;\n",
              "    }\n",
              "\n",
              "    .dataframe thead th {\n",
              "        text-align: right;\n",
              "    }\n",
              "</style>\n",
              "<table border=\"1\" class=\"dataframe\">\n",
              "  <thead>\n",
              "    <tr style=\"text-align: right;\">\n",
              "      <th></th>\n",
              "      <th>Job Title</th>\n",
              "      <th>link_url</th>\n",
              "    </tr>\n",
              "  </thead>\n",
              "  <tbody>\n",
              "    <tr>\n",
              "      <th>20</th>\n",
              "      <td>Head Digital Engineering at NCBA Group</td>\n",
              "      <td>https://www.myjobmag.co.ke/job/head-digital-en...</td>\n",
              "    </tr>\n",
              "    <tr>\n",
              "      <th>41</th>\n",
              "      <td>Cloud System Administrator (M/F)</td>\n",
              "      <td>https://www.kenyajob.com/job-vacancies-kenya/c...</td>\n",
              "    </tr>\n",
              "    <tr>\n",
              "      <th>30</th>\n",
              "      <td>Business Development Assistant</td>\n",
              "      <td>https://www.kenyajob.com/job-vacancies-kenya/b...</td>\n",
              "    </tr>\n",
              "    <tr>\n",
              "      <th>40</th>\n",
              "      <td>Cloud Microservices Architect (M/F)</td>\n",
              "      <td>https://www.kenyajob.com/job-vacancies-kenya/c...</td>\n",
              "    </tr>\n",
              "    <tr>\n",
              "      <th>37</th>\n",
              "      <td>Cloud Architect (M/F)</td>\n",
              "      <td>https://www.kenyajob.com/job-vacancies-kenya/c...</td>\n",
              "    </tr>\n",
              "    <tr>\n",
              "      <th>14</th>\n",
              "      <td>Senior Application Security Engineer at Cellul...</td>\n",
              "      <td>https://www.myjobmag.co.ke/job/senior-applicat...</td>\n",
              "    </tr>\n",
              "    <tr>\n",
              "      <th>27</th>\n",
              "      <td>Junior Frontend Developer at University of Cal...</td>\n",
              "      <td>https://www.myjobmag.co.ke/job/university-of-c...</td>\n",
              "    </tr>\n",
              "    <tr>\n",
              "      <th>19</th>\n",
              "      <td>Group Model Risk Validation Senior Manager (Fi...</td>\n",
              "      <td>https://www.myjobmag.co.ke/job/group-model-ris...</td>\n",
              "    </tr>\n",
              "    <tr>\n",
              "      <th>13</th>\n",
              "      <td>Software Engineer - Identity Management for Ca...</td>\n",
              "      <td>https://www.myjobmag.co.ke/job/software-engine...</td>\n",
              "    </tr>\n",
              "    <tr>\n",
              "      <th>29</th>\n",
              "      <td>Senior Freelance Web Designer</td>\n",
              "      <td>https://www.kenyajob.com/job-vacancies-kenya/s...</td>\n",
              "    </tr>\n",
              "    <tr>\n",
              "      <th>4</th>\n",
              "      <td>Assistant IT Administrator</td>\n",
              "      <td>https://www.pigiame.co.ke/listings/assistant-i...</td>\n",
              "    </tr>\n",
              "    <tr>\n",
              "      <th>35</th>\n",
              "      <td>AWS Solutions Architect (M/F)</td>\n",
              "      <td>https://www.kenyajob.com/job-vacancies-kenya/a...</td>\n",
              "    </tr>\n",
              "    <tr>\n",
              "      <th>11</th>\n",
              "      <td>Quality Assurance Specialist at Britam</td>\n",
              "      <td>https://www.myjobmag.co.ke/job/quality-assuran...</td>\n",
              "    </tr>\n",
              "    <tr>\n",
              "      <th>46</th>\n",
              "      <td>Network Architect (M/F)</td>\n",
              "      <td>https://www.kenyajob.com/job-vacancies-kenya/n...</td>\n",
              "    </tr>\n",
              "    <tr>\n",
              "      <th>47</th>\n",
              "      <td>ANGULAR Developer (M/F)</td>\n",
              "      <td>https://www.kenyajob.com/job-vacancies-kenya/a...</td>\n",
              "    </tr>\n",
              "    <tr>\n",
              "      <th>0</th>\n",
              "      <td>Software Developer</td>\n",
              "      <td>https://www.pigiame.co.ke/listings/software-de...</td>\n",
              "    </tr>\n",
              "    <tr>\n",
              "      <th>32</th>\n",
              "      <td>CCTV and Fire Alarms Systems Technician</td>\n",
              "      <td>https://www.kenyajob.com/job-vacancies-kenya/c...</td>\n",
              "    </tr>\n",
              "    <tr>\n",
              "      <th>24</th>\n",
              "      <td>Geographical Information Systems Specialist (G...</td>\n",
              "      <td>https://www.myjobmag.co.ke/job/geographical-in...</td>\n",
              "    </tr>\n",
              "    <tr>\n",
              "      <th>22</th>\n",
              "      <td>Internal Control Manager at ENGIE</td>\n",
              "      <td>https://www.myjobmag.co.ke/job/internal-contro...</td>\n",
              "    </tr>\n",
              "    <tr>\n",
              "      <th>38</th>\n",
              "      <td>Cloud Computing and Virtualization Engineer (M/F)</td>\n",
              "      <td>https://www.kenyajob.com/job-vacancies-kenya/c...</td>\n",
              "    </tr>\n",
              "  </tbody>\n",
              "</table>\n",
              "</div>\n",
              "      <button class=\"colab-df-convert\" onclick=\"convertToInteractive('df-2a421ade-8d90-45e1-8ba5-e48e62c80a72')\"\n",
              "              title=\"Convert this dataframe to an interactive table.\"\n",
              "              style=\"display:none;\">\n",
              "        \n",
              "  <svg xmlns=\"http://www.w3.org/2000/svg\" height=\"24px\"viewBox=\"0 0 24 24\"\n",
              "       width=\"24px\">\n",
              "    <path d=\"M0 0h24v24H0V0z\" fill=\"none\"/>\n",
              "    <path d=\"M18.56 5.44l.94 2.06.94-2.06 2.06-.94-2.06-.94-.94-2.06-.94 2.06-2.06.94zm-11 1L8.5 8.5l.94-2.06 2.06-.94-2.06-.94L8.5 2.5l-.94 2.06-2.06.94zm10 10l.94 2.06.94-2.06 2.06-.94-2.06-.94-.94-2.06-.94 2.06-2.06.94z\"/><path d=\"M17.41 7.96l-1.37-1.37c-.4-.4-.92-.59-1.43-.59-.52 0-1.04.2-1.43.59L10.3 9.45l-7.72 7.72c-.78.78-.78 2.05 0 2.83L4 21.41c.39.39.9.59 1.41.59.51 0 1.02-.2 1.41-.59l7.78-7.78 2.81-2.81c.8-.78.8-2.07 0-2.86zM5.41 20L4 18.59l7.72-7.72 1.47 1.35L5.41 20z\"/>\n",
              "  </svg>\n",
              "      </button>\n",
              "      \n",
              "  <style>\n",
              "    .colab-df-container {\n",
              "      display:flex;\n",
              "      flex-wrap:wrap;\n",
              "      gap: 12px;\n",
              "    }\n",
              "\n",
              "    .colab-df-convert {\n",
              "      background-color: #E8F0FE;\n",
              "      border: none;\n",
              "      border-radius: 50%;\n",
              "      cursor: pointer;\n",
              "      display: none;\n",
              "      fill: #1967D2;\n",
              "      height: 32px;\n",
              "      padding: 0 0 0 0;\n",
              "      width: 32px;\n",
              "    }\n",
              "\n",
              "    .colab-df-convert:hover {\n",
              "      background-color: #E2EBFA;\n",
              "      box-shadow: 0px 1px 2px rgba(60, 64, 67, 0.3), 0px 1px 3px 1px rgba(60, 64, 67, 0.15);\n",
              "      fill: #174EA6;\n",
              "    }\n",
              "\n",
              "    [theme=dark] .colab-df-convert {\n",
              "      background-color: #3B4455;\n",
              "      fill: #D2E3FC;\n",
              "    }\n",
              "\n",
              "    [theme=dark] .colab-df-convert:hover {\n",
              "      background-color: #434B5C;\n",
              "      box-shadow: 0px 1px 3px 1px rgba(0, 0, 0, 0.15);\n",
              "      filter: drop-shadow(0px 1px 2px rgba(0, 0, 0, 0.3));\n",
              "      fill: #FFFFFF;\n",
              "    }\n",
              "  </style>\n",
              "\n",
              "      <script>\n",
              "        const buttonEl =\n",
              "          document.querySelector('#df-2a421ade-8d90-45e1-8ba5-e48e62c80a72 button.colab-df-convert');\n",
              "        buttonEl.style.display =\n",
              "          google.colab.kernel.accessAllowed ? 'block' : 'none';\n",
              "\n",
              "        async function convertToInteractive(key) {\n",
              "          const element = document.querySelector('#df-2a421ade-8d90-45e1-8ba5-e48e62c80a72');\n",
              "          const dataTable =\n",
              "            await google.colab.kernel.invokeFunction('convertToInteractive',\n",
              "                                                     [key], {});\n",
              "          if (!dataTable) return;\n",
              "\n",
              "          const docLinkHtml = 'Like what you see? Visit the ' +\n",
              "            '<a target=\"_blank\" href=https://colab.research.google.com/notebooks/data_table.ipynb>data table notebook</a>'\n",
              "            + ' to learn more about interactive tables.';\n",
              "          element.innerHTML = '';\n",
              "          dataTable['output_type'] = 'display_data';\n",
              "          await google.colab.output.renderOutput(dataTable, element);\n",
              "          const docLink = document.createElement('div');\n",
              "          docLink.innerHTML = docLinkHtml;\n",
              "          element.appendChild(docLink);\n",
              "        }\n",
              "      </script>\n",
              "    </div>\n",
              "  </div>\n",
              "  "
            ]
          },
          "metadata": {},
          "execution_count": 14
        }
      ]
    }
  ]
}